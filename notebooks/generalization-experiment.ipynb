{
 "cells": [
  {
   "cell_type": "markdown",
   "metadata": {},
   "source": [
    "# Generalization experiment (Section 3.4)\n",
    "\n",
    "Train only on Court of Appeals tasks, plot accuracy on both Court of Appeals and Supreme Court tasks."
   ]
  },
  {
   "cell_type": "code",
   "execution_count": 1,
   "metadata": {},
   "outputs": [],
   "source": [
    "import os\n",
    "import numpy as np\n",
    "from tqdm import tqdm\n",
    "import seaborn as sns\n",
    "palette = sns.color_palette(\"colorblind\")\n",
    "import matplotlib.pyplot as plt\n",
    "\n",
    "from utils import load_responses, responses_to_acc, compute_mean_acc, compute_averages"
   ]
  },
  {
   "cell_type": "code",
   "execution_count": 2,
   "metadata": {},
   "outputs": [
    {
     "name": "stderr",
     "output_type": "stream",
     "text": [
      "100%|██████████| 260/260 [00:00<00:00, 265.06it/s]\n"
     ]
    },
    {
     "name": "stdout",
     "output_type": "stream",
     "text": [
      "progress-30 has 260 tasks\n"
     ]
    },
    {
     "name": "stderr",
     "output_type": "stream",
     "text": [
      "100%|██████████| 260/260 [00:00<00:00, 269.78it/s]\n"
     ]
    },
    {
     "name": "stdout",
     "output_type": "stream",
     "text": [
      "progress-100 has 260 tasks\n"
     ]
    },
    {
     "name": "stderr",
     "output_type": "stream",
     "text": [
      "100%|██████████| 260/260 [00:00<00:00, 309.37it/s]\n"
     ]
    },
    {
     "name": "stdout",
     "output_type": "stream",
     "text": [
      "progress-2000 has 260 tasks\n"
     ]
    },
    {
     "name": "stderr",
     "output_type": "stream",
     "text": [
      "100%|██████████| 260/260 [00:01<00:00, 243.17it/s]\n"
     ]
    },
    {
     "name": "stdout",
     "output_type": "stream",
     "text": [
      "progress-600 has 260 tasks\n"
     ]
    },
    {
     "name": "stderr",
     "output_type": "stream",
     "text": [
      "100%|██████████| 260/260 [00:01<00:00, 258.50it/s]\n"
     ]
    },
    {
     "name": "stdout",
     "output_type": "stream",
     "text": [
      "progress-3000 has 260 tasks\n"
     ]
    },
    {
     "name": "stderr",
     "output_type": "stream",
     "text": [
      "100%|██████████| 260/260 [00:01<00:00, 249.76it/s]\n"
     ]
    },
    {
     "name": "stdout",
     "output_type": "stream",
     "text": [
      "progress-300 has 260 tasks\n"
     ]
    },
    {
     "name": "stderr",
     "output_type": "stream",
     "text": [
      "100%|██████████| 260/260 [00:00<00:00, 274.50it/s]\n"
     ]
    },
    {
     "name": "stdout",
     "output_type": "stream",
     "text": [
      "progress-60 has 260 tasks\n"
     ]
    },
    {
     "name": "stderr",
     "output_type": "stream",
     "text": [
      "100%|██████████| 260/260 [00:01<00:00, 237.06it/s]\n"
     ]
    },
    {
     "name": "stdout",
     "output_type": "stream",
     "text": [
      "progress-1000 has 260 tasks\n"
     ]
    },
    {
     "name": "stderr",
     "output_type": "stream",
     "text": [
      "100%|██████████| 260/260 [00:00<00:00, 310.83it/s]\n"
     ]
    },
    {
     "name": "stdout",
     "output_type": "stream",
     "text": [
      "progress-10 has 260 tasks\n"
     ]
    },
    {
     "name": "stderr",
     "output_type": "stream",
     "text": [
      "100%|██████████| 260/260 [00:01<00:00, 155.70it/s]\n"
     ]
    },
    {
     "name": "stdout",
     "output_type": "stream",
     "text": [
      "llama-3-8b-instruct has 260 tasks\n"
     ]
    },
    {
     "name": "stderr",
     "output_type": "stream",
     "text": [
      "100%|██████████| 260/260 [00:01<00:00, 236.98it/s]\n"
     ]
    },
    {
     "name": "stdout",
     "output_type": "stream",
     "text": [
      "llama-3-70b-instruct has 260 tasks\n"
     ]
    },
    {
     "name": "stderr",
     "output_type": "stream",
     "text": [
      "100%|██████████| 260/260 [00:00<00:00, 317.08it/s]"
     ]
    },
    {
     "name": "stdout",
     "output_type": "stream",
     "text": [
      "lawma-8b has 260 tasks\n"
     ]
    },
    {
     "name": "stderr",
     "output_type": "stream",
     "text": [
      "\n"
     ]
    }
   ],
   "source": [
    "# Load the responses of every model checkpoint\n",
    "base_dir = 'results/generalization-experiment/'\n",
    "subdirs = os.listdir(base_dir)\n",
    "responses = load_responses({}, subdirs, base_dir)\n",
    "\n",
    "llama_3_models = ['llama-3-8b-instruct', 'llama-3-70b-instruct', 'lawma-8b']\n",
    "responses = load_responses(responses, llama_3_models, 'results/model_responses/')"
   ]
  },
  {
   "cell_type": "code",
   "execution_count": 3,
   "metadata": {},
   "outputs": [
    {
     "name": "stderr",
     "output_type": "stream",
     "text": [
      "100%|██████████| 260/260 [00:00<00:00, 1438.32it/s]\n",
      "100%|██████████| 260/260 [00:00<00:00, 4854.17it/s]\n",
      "100%|██████████| 260/260 [00:00<00:00, 3962.14it/s]\n",
      "100%|██████████| 260/260 [00:00<00:00, 4489.56it/s]\n",
      "100%|██████████| 260/260 [00:00<00:00, 4165.80it/s]\n",
      "100%|██████████| 260/260 [00:00<00:00, 7182.12it/s]\n",
      "100%|██████████| 260/260 [00:00<00:00, 8579.67it/s]\n",
      "100%|██████████| 260/260 [00:00<00:00, 6015.46it/s]\n",
      "100%|██████████| 260/260 [00:00<00:00, 1433.60it/s]\n",
      "100%|██████████| 260/260 [00:00<00:00, 5685.21it/s]\n",
      "100%|██████████| 260/260 [00:00<00:00, 5464.37it/s]\n",
      "100%|██████████| 260/260 [00:00<00:00, 5910.29it/s]\n"
     ]
    }
   ],
   "source": [
    "accs = {}\n",
    "for model, model_responses in responses.items():\n",
    "    accs[model] = {}\n",
    "    for file, response in tqdm(model_responses.items()):\n",
    "        accs[model][file] = responses_to_acc(response, gpt4=model=='gpt4')"
   ]
  },
  {
   "cell_type": "code",
   "execution_count": 4,
   "metadata": {},
   "outputs": [],
   "source": [
    "processed_results = {}\n",
    "for run, values in accs.items():\n",
    "    if not run.startswith('progress'):\n",
    "        continue\n",
    "\n",
    "    steps = int(run.split('-')[-1])\n",
    "    processed_results[steps] = {\n",
    "        'sc': compute_mean_acc(accs, run, 'sc_'),\n",
    "        'songer': compute_mean_acc(accs, run, 'songer_'),\n",
    "    }"
   ]
  },
  {
   "cell_type": "code",
   "execution_count": 5,
   "metadata": {},
   "outputs": [],
   "source": [
    "y_base = {\n",
    "    '8b': compute_mean_acc(accs, 'llama-3-8b-instruct', 'sc_'),\n",
    "    '70b': compute_mean_acc(accs, 'llama-3-70b-instruct', 'sc_'),\n",
    "    'lawma-8b': compute_mean_acc(accs, 'lawma-8b', 'sc_'),\n",
    "}\n",
    "\n",
    "x = sorted(list(processed_results.keys()))\n",
    "y_sc = [processed_results[steps]['sc'] for steps in x]\n",
    "y_songer = [processed_results[steps]['songer'] for steps in x]\n",
    "x = np.array(x) / max(x)"
   ]
  },
  {
   "cell_type": "code",
   "execution_count": 6,
   "metadata": {},
   "outputs": [
    {
     "data": {
      "image/png": "[encoded data removed]",
      "text/plain": [
       "<Figure size 860x200 with 1 Axes>"
      ]
     },
     "metadata": {},
     "output_type": "display_data"
    }
   ],
   "source": [
    "# plot steps against accuracy, one line for each prefix\n",
    "fig, ax = plt.subplots(figsize=(8.6, 2))\n",
    "\n",
    "ax.plot(x, y_songer, 'o-', color=palette[0], label='Court of Appeals database')\n",
    "ax.plot(x, y_sc, 'o-', color=palette[1], label='Supreme Court database')\n",
    "\n",
    "# x log\n",
    "ax.set_xscale('log')\n",
    "\n",
    "# x label - Fraction of the training epoch completed\n",
    "ax.set_xlabel('Fraction of Songer data seen', fontsize=12)\n",
    "ax.set_ylabel('Mean case accuracy', fontsize=12)\n",
    "\n",
    "# grid\n",
    "ax.grid(True, which=\"both\", ls=\"--\", c='black', alpha=0.2)\n",
    "ax.set_xlim(min(x) * 0.9, 1.1)\n",
    "\n",
    "# legend in top left\n",
    "ax.set_yticks([0.4, 0.5, 0.6, 0.7, 0.8])\n",
    "ax.legend(fontsize=11)\n",
    "\n",
    "# save with tight layout\n",
    "plt.savefig('plots/generalization.pdf', bbox_inches='tight')"
   ]
  },
  {
   "cell_type": "code",
   "execution_count": 7,
   "metadata": {},
   "outputs": [
    {
     "name": "stdout",
     "output_type": "stream",
     "text": [
      "Max SC: 52.3\n",
      "SC Lawma 8B 82.76184878708361\n",
      "SC improvement over 8b, max: 18.9, end: 11.5\n",
      "SC improvement over 70b, max: 4.5, end: -2.9\n",
      "SC improvement over lawma-8b, max: -30.5, end: -37.8\n",
      "Fraction of Songer data seen at max SC accuracy: 0.2\n"
     ]
    }
   ],
   "source": [
    "print(f'Max SC: {max(y_sc)*100:.1f}')\n",
    "print(f'SC Lawma 8B', compute_mean_acc(accs, 'lawma-8b', 'sc_')*100)\n",
    "for k, v in y_base.items():\n",
    "    print(f'SC improvement over {k}, max: {100*(max(y_sc) - v):.1f}, end: {100*(y_sc[-1] - v):.1f}')\n",
    "\n",
    "# print x corresponding to max of y_sc\n",
    "print(f'Fraction of Songer data seen at max SC accuracy: {x[np.argmax(y_sc)]}')"
   ]
  },
  {
   "cell_type": "code",
   "execution_count": null,
   "metadata": {},
   "outputs": [],
   "source": []
  }
 ],
 "metadata": {
  "kernelspec": {
   "display_name": "hug",
   "language": "python",
   "name": "python3"
  },
  "language_info": {
   "codemirror_mode": {
    "name": "ipython",
    "version": 3
   },
   "file_extension": ".py",
   "mimetype": "text/x-python",
   "name": "python",
   "nbconvert_exporter": "python",
   "pygments_lexer": "ipython3",
   "version": "3.10.14"
  }
 },
 "nbformat": 4,
 "nbformat_minor": 2
}
