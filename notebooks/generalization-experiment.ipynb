{
 "cells": [
  {
   "cell_type": "markdown",
   "metadata": {},
   "source": [
    "# Generalization experiment (Section 3.4)\n",
    "\n",
    "Train only on Court of Appeals tasks, plot accuracy on both Court of Appeals and Supreme Court tasks."
   ]
  },
  {
   "cell_type": "code",
   "execution_count": 1,
   "metadata": {},
   "outputs": [],
   "source": [
    "import os\n",
    "import numpy as np\n",
    "from tqdm import tqdm\n",
    "import seaborn as sns\n",
    "palette = sns.color_palette(\"colorblind\")\n",
    "import matplotlib.pyplot as plt\n",
    "\n",
    "from utils import responses_to_counts, load_responses, compute_case_acc"
   ]
  },
  {
   "cell_type": "code",
   "execution_count": 2,
   "metadata": {},
   "outputs": [
    {
     "name": "stderr",
     "output_type": "stream",
     "text": [
      "100%|██████████| 260/260 [00:00<00:00, 296.21it/s]\n"
     ]
    },
    {
     "name": "stdout",
     "output_type": "stream",
     "text": [
      "progress-30 has 260 tasks\n"
     ]
    },
    {
     "name": "stderr",
     "output_type": "stream",
     "text": [
      "100%|██████████| 260/260 [00:00<00:00, 268.11it/s]\n"
     ]
    },
    {
     "name": "stdout",
     "output_type": "stream",
     "text": [
      "progress-100 has 260 tasks\n"
     ]
    },
    {
     "name": "stderr",
     "output_type": "stream",
     "text": [
      "100%|██████████| 260/260 [00:00<00:00, 300.80it/s]\n"
     ]
    },
    {
     "name": "stdout",
     "output_type": "stream",
     "text": [
      "progress-2000 has 260 tasks\n"
     ]
    },
    {
     "name": "stderr",
     "output_type": "stream",
     "text": [
      "100%|██████████| 260/260 [00:01<00:00, 253.54it/s]\n"
     ]
    },
    {
     "name": "stdout",
     "output_type": "stream",
     "text": [
      "progress-600 has 260 tasks\n"
     ]
    },
    {
     "name": "stderr",
     "output_type": "stream",
     "text": [
      "100%|██████████| 260/260 [00:00<00:00, 285.41it/s]\n"
     ]
    },
    {
     "name": "stdout",
     "output_type": "stream",
     "text": [
      "progress-3000 has 260 tasks\n"
     ]
    },
    {
     "name": "stderr",
     "output_type": "stream",
     "text": [
      "100%|██████████| 260/260 [00:01<00:00, 184.65it/s]\n"
     ]
    },
    {
     "name": "stdout",
     "output_type": "stream",
     "text": [
      "progress-300 has 260 tasks\n"
     ]
    },
    {
     "name": "stderr",
     "output_type": "stream",
     "text": [
      "100%|██████████| 260/260 [00:00<00:00, 300.84it/s]\n"
     ]
    },
    {
     "name": "stdout",
     "output_type": "stream",
     "text": [
      "progress-60 has 260 tasks\n"
     ]
    },
    {
     "name": "stderr",
     "output_type": "stream",
     "text": [
      "100%|██████████| 260/260 [00:01<00:00, 182.03it/s]\n"
     ]
    },
    {
     "name": "stdout",
     "output_type": "stream",
     "text": [
      "progress-1000 has 260 tasks\n"
     ]
    },
    {
     "name": "stderr",
     "output_type": "stream",
     "text": [
      "100%|██████████| 260/260 [00:00<00:00, 322.64it/s]\n"
     ]
    },
    {
     "name": "stdout",
     "output_type": "stream",
     "text": [
      "progress-10 has 260 tasks\n"
     ]
    },
    {
     "name": "stderr",
     "output_type": "stream",
     "text": [
      "100%|██████████| 260/260 [00:01<00:00, 180.44it/s]\n"
     ]
    },
    {
     "name": "stdout",
     "output_type": "stream",
     "text": [
      "llama-3-8b-instruct has 260 tasks\n"
     ]
    },
    {
     "name": "stderr",
     "output_type": "stream",
     "text": [
      "100%|██████████| 260/260 [00:00<00:00, 324.61it/s]\n"
     ]
    },
    {
     "name": "stdout",
     "output_type": "stream",
     "text": [
      "llama-3-70b-instruct has 260 tasks\n"
     ]
    },
    {
     "name": "stderr",
     "output_type": "stream",
     "text": [
      "100%|██████████| 260/260 [00:01<00:00, 240.31it/s]"
     ]
    },
    {
     "name": "stdout",
     "output_type": "stream",
     "text": [
      "lawma-8b has 260 tasks\n"
     ]
    },
    {
     "name": "stderr",
     "output_type": "stream",
     "text": [
      "\n"
     ]
    }
   ],
   "source": [
    "# Load the responses of every model checkpoint\n",
    "base_dir = 'results/generalization-experiment/'\n",
    "subdirs = os.listdir(base_dir)\n",
    "responses = load_responses({}, subdirs, base_dir)\n",
    "\n",
    "llama_3_models = ['llama-3-8b-instruct', 'llama-3-70b-instruct', 'lawma-8b']\n",
    "responses = load_responses(responses, llama_3_models, 'results/model_responses/')"
   ]
  },
  {
   "cell_type": "code",
   "execution_count": 3,
   "metadata": {},
   "outputs": [
    {
     "name": "stderr",
     "output_type": "stream",
     "text": [
      "100%|██████████| 260/260 [00:00<00:00, 4389.29it/s]\n",
      "100%|██████████| 260/260 [00:00<00:00, 7289.66it/s]\n",
      "100%|██████████| 260/260 [00:00<00:00, 6953.51it/s]\n",
      "100%|██████████| 260/260 [00:00<00:00, 6937.41it/s]\n",
      "100%|██████████| 260/260 [00:00<00:00, 1597.64it/s]\n",
      "100%|██████████| 260/260 [00:00<00:00, 5112.97it/s]\n",
      "100%|██████████| 260/260 [00:00<00:00, 6665.48it/s]\n",
      "100%|██████████| 260/260 [00:00<00:00, 7067.75it/s]\n",
      "100%|██████████| 260/260 [00:00<00:00, 7339.02it/s]\n",
      "100%|██████████| 260/260 [00:00<00:00, 4159.25it/s]\n",
      "100%|██████████| 260/260 [00:00<00:00, 7066.20it/s]\n",
      "100%|██████████| 260/260 [00:00<00:00, 7153.43it/s]\n"
     ]
    }
   ],
   "source": [
    "trials = {}\n",
    "for model, model_responses in responses.items():\n",
    "    trials[model] = {}\n",
    "    for file, response in tqdm(model_responses.items()):\n",
    "        trials[model][file] = responses_to_counts(response, gpt4=model=='gpt4')"
   ]
  },
  {
   "cell_type": "code",
   "execution_count": 4,
   "metadata": {},
   "outputs": [],
   "source": [
    "processed_results = {}\n",
    "for run, values in trials.items():\n",
    "    if not run.startswith('progress'):\n",
    "        continue\n",
    "\n",
    "    steps = int(run.split('-')[-1])\n",
    "    processed_results[steps] = {\n",
    "        'sc': compute_case_acc(values, 'sc_'),\n",
    "        'songer': compute_case_acc(values, 'songer_'),\n",
    "    }"
   ]
  },
  {
   "cell_type": "code",
   "execution_count": 5,
   "metadata": {},
   "outputs": [],
   "source": [
    "y_base = {\n",
    "    '8b': compute_case_acc(trials['llama-3-8b-instruct'], 'sc_')[0],\n",
    "    '70b': compute_case_acc(trials['llama-3-70b-instruct'], 'sc_')[0],\n",
    "    'lawma-8b': compute_case_acc(trials['lawma-8b'], 'sc_')[0],\n",
    "}\n",
    "\n",
    "def error_bar_transform(bars):\n",
    "    min_ = [bar[0] for bar in bars]\n",
    "    max_ = [bar[1] for bar in bars]\n",
    "    return np.c_[min_, max_].T\n",
    "\n",
    "x = sorted(list(processed_results.keys()))\n",
    "y_sc = [processed_results[steps]['sc'][0] for steps in x]\n",
    "y_sc_bar = error_bar_transform([processed_results[steps]['sc'][1] for steps in x])\n",
    "y_songer = [processed_results[steps]['songer'][0] for steps in x]\n",
    "y_songer_bar = error_bar_transform([processed_results[steps]['sc'][1] for steps in x])\n",
    "x = np.array(x) / max(x)"
   ]
  },
  {
   "cell_type": "code",
   "execution_count": 6,
   "metadata": {},
   "outputs": [
    {
     "data": {
      "image/png": "[encoded data removed]",
      "text/plain": [
       "<Figure size 860x200 with 1 Axes>"
      ]
     },
     "metadata": {},
     "output_type": "display_data"
    }
   ],
   "source": [
    "# plot steps against accuracy, one line for each prefix\n",
    "fig, ax = plt.subplots(figsize=(8.6, 2))\n",
    "\n",
    "ax.errorbar(x, y_songer, fmt='o-', yerr=y_songer_bar, color=palette[0], label='Court of Appeals database')\n",
    "ax.errorbar(x, y_sc, fmt='o-', yerr=y_sc_bar, color=palette[1], label='Supreme Court database')\n",
    "\n",
    "# x log\n",
    "ax.set_xscale('log')\n",
    "\n",
    "# x label - Fraction of the training epoch completed\n",
    "ax.set_xlabel('Fraction of Songer data seen', fontsize=12)\n",
    "ax.set_ylabel('Mean case accuracy', fontsize=12)\n",
    "\n",
    "# grid\n",
    "ax.grid(True, which=\"both\", ls=\"--\", c='black', alpha=0.2)\n",
    "ax.set_xlim(min(x) * 0.9, 1.1)\n",
    "\n",
    "# legend in top left\n",
    "ax.set_yticks([0.4, 0.5, 0.6, 0.7, 0.8])\n",
    "ax.legend(fontsize=11)\n",
    "\n",
    "# save with tight layout\n",
    "plt.savefig('plots/generalization.pdf', bbox_inches='tight')"
   ]
  },
  {
   "cell_type": "code",
   "execution_count": 9,
   "metadata": {},
   "outputs": [
    {
     "name": "stdout",
     "output_type": "stream",
     "text": [
      "Max SC: 56.0\n",
      "SC Lawma 8B 86.26053143227479\n",
      "SC improvement over 8b, max: 16.0, end: 13.7\n",
      "SC improvement over 70b, max: 0.2, end: -2.1\n",
      "SC improvement over lawma-8b, max: -30.3, end: -32.6\n",
      "Fraction of Songer data seen at max SC accuracy: 0.2\n"
     ]
    }
   ],
   "source": [
    "print(f'Max SC: {max(y_sc)*100:.1f}')\n",
    "print(f'SC Lawma 8B', compute_case_acc(trials['lawma-8b'], 'sc_')[0]*100)\n",
    "for k, v in y_base.items():\n",
    "    print(f'SC improvement over {k}, max: {100*(max(y_sc) - v):.1f}, end: {100*(y_sc[-1] - v):.1f}')\n",
    "\n",
    "# print x corresponding to max of y_sc\n",
    "print(f'Fraction of Songer data seen at max SC accuracy: {x[np.argmax(y_sc)]}')"
   ]
  }
 ],
 "metadata": {
  "kernelspec": {
   "display_name": "hug",
   "language": "python",
   "name": "python3"
  },
  "language_info": {
   "codemirror_mode": {
    "name": "ipython",
    "version": 3
   },
   "file_extension": ".py",
   "mimetype": "text/x-python",
   "name": "python",
   "nbconvert_exporter": "python",
   "pygments_lexer": "ipython3",
   "version": "3.10.14"
  }
 },
 "nbformat": 4,
 "nbformat_minor": 2
}
