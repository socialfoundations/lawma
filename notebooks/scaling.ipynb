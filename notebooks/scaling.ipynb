{
 "cells": [
  {
   "cell_type": "markdown",
   "metadata": {},
   "source": [
    "# Effect of model scale on performance (Section 3.1)\n",
    "\n",
    "Plot the performance of models of varying pretraining compute."
   ]
  },
  {
   "cell_type": "code",
   "execution_count": 1,
   "metadata": {},
   "outputs": [],
   "source": [
    "import numpy as np\n",
    "from tqdm import tqdm\n",
    "import seaborn as sns\n",
    "palette = sns.color_palette(\"colorblind\")\n",
    "import matplotlib.pyplot as plt\n",
    "\n",
    "from utils import load_responses, responses_to_counts\n",
    "from utils import majority_trials, compute_case_acc\n",
    "\n",
    "models = {\n",
    "    'pythia-70m': 'Pythia 70M',\n",
    "    'pythia-160m': 'Pythia 160M',\n",
    "    'pythia-410m': 'Pythia 410M',\n",
    "    'pythia-1b': 'Pythia 1B',\n",
    "    'pythia-2.8b': 'Pythia 2.8B',\n",
    "    'pythia-6.9b': 'Pythia 6.9B',\n",
    "    'llama-2-7b': 'Llama 2 7B',\n",
    "    'llama-3-8b': 'Llama 3 8B',\n",
    "}\n",
    "\n",
    "compute = {\n",
    "    'pythia-70m': 0.07 * 0.3,\n",
    "    'pythia-160m': 0.16 * 0.3,\n",
    "    'pythia-410m': 0.41 * 0.3,\n",
    "    'pythia-1b': 1. * 0.3,\n",
    "    'pythia-2.8b': 2.8 * 0.3,\n",
    "    'pythia-6.9b': 6.9 * 0.3,\n",
    "    'llama-2-7b': 7 * 2,\n",
    "    'llama-3-8b': 8 * 15,\n",
    "    'llama-3-70b': 70 * 15,\n",
    "}"
   ]
  },
  {
   "cell_type": "code",
   "execution_count": 2,
   "metadata": {},
   "outputs": [
    {
     "name": "stderr",
     "output_type": "stream",
     "text": [
      "  0%|          | 0/258 [00:00<?, ?it/s]"
     ]
    },
    {
     "name": "stderr",
     "output_type": "stream",
     "text": [
      "100%|██████████| 258/258 [00:00<00:00, 1194.92it/s]\n"
     ]
    },
    {
     "name": "stdout",
     "output_type": "stream",
     "text": [
      "pythia-70m has 258 tasks\n"
     ]
    },
    {
     "name": "stderr",
     "output_type": "stream",
     "text": [
      "100%|██████████| 258/258 [00:00<00:00, 2371.24it/s]\n"
     ]
    },
    {
     "name": "stdout",
     "output_type": "stream",
     "text": [
      "pythia-160m has 258 tasks\n"
     ]
    },
    {
     "name": "stderr",
     "output_type": "stream",
     "text": [
      "100%|██████████| 258/258 [00:00<00:00, 1141.67it/s]\n"
     ]
    },
    {
     "name": "stdout",
     "output_type": "stream",
     "text": [
      "pythia-410m has 258 tasks\n"
     ]
    },
    {
     "name": "stderr",
     "output_type": "stream",
     "text": [
      "100%|██████████| 258/258 [00:00<00:00, 4083.11it/s]\n"
     ]
    },
    {
     "name": "stdout",
     "output_type": "stream",
     "text": [
      "pythia-1b has 258 tasks\n"
     ]
    },
    {
     "name": "stderr",
     "output_type": "stream",
     "text": [
      "100%|██████████| 258/258 [00:00<00:00, 4669.08it/s]\n"
     ]
    },
    {
     "name": "stdout",
     "output_type": "stream",
     "text": [
      "pythia-2.8b has 258 tasks\n"
     ]
    },
    {
     "name": "stderr",
     "output_type": "stream",
     "text": [
      "100%|██████████| 258/258 [00:00<00:00, 1324.12it/s]\n"
     ]
    },
    {
     "name": "stdout",
     "output_type": "stream",
     "text": [
      "pythia-6.9b has 258 tasks\n"
     ]
    },
    {
     "name": "stderr",
     "output_type": "stream",
     "text": [
      "100%|██████████| 260/260 [00:00<00:00, 3503.24it/s]\n"
     ]
    },
    {
     "name": "stdout",
     "output_type": "stream",
     "text": [
      "llama-2-7b has 260 tasks\n"
     ]
    },
    {
     "name": "stderr",
     "output_type": "stream",
     "text": [
      "100%|██████████| 260/260 [00:01<00:00, 224.76it/s]\n"
     ]
    },
    {
     "name": "stdout",
     "output_type": "stream",
     "text": [
      "llama-3-8b has 260 tasks\n"
     ]
    },
    {
     "name": "stderr",
     "output_type": "stream",
     "text": [
      "100%|██████████| 260/260 [00:00<00:00, 3956.47it/s]\n"
     ]
    },
    {
     "name": "stdout",
     "output_type": "stream",
     "text": [
      "gpt4 has 260 tasks\n"
     ]
    },
    {
     "name": "stderr",
     "output_type": "stream",
     "text": [
      "100%|██████████| 260/260 [00:01<00:00, 253.57it/s]\n"
     ]
    },
    {
     "name": "stdout",
     "output_type": "stream",
     "text": [
      "lawma-8b has 260 tasks\n"
     ]
    },
    {
     "name": "stderr",
     "output_type": "stream",
     "text": [
      "100%|██████████| 260/260 [00:01<00:00, 252.18it/s]"
     ]
    },
    {
     "name": "stdout",
     "output_type": "stream",
     "text": [
      "lawma-70b has 260 tasks\n"
     ]
    },
    {
     "name": "stderr",
     "output_type": "stream",
     "text": [
      "\n"
     ]
    }
   ],
   "source": [
    "responses = load_responses({}, models, 'results/scaling-experiments/')\n",
    "responses = load_responses(responses, ['gpt4', 'lawma-8b', 'lawma-70b'], base_dir='results/model_responses/')\n",
    "responses['llama-3-70b'] = responses['lawma-70b']  # lawma 70b is trained for one epoch\n",
    "models['llama-3-70b'] = 'Llama 3 70B'"
   ]
  },
  {
   "cell_type": "code",
   "execution_count": 3,
   "metadata": {},
   "outputs": [
    {
     "name": "stderr",
     "output_type": "stream",
     "text": [
      "100%|██████████| 258/258 [00:00<00:00, 37619.69it/s]\n",
      "100%|██████████| 258/258 [00:00<00:00, 33251.30it/s]\n",
      "100%|██████████| 258/258 [00:00<00:00, 38103.18it/s]\n",
      "100%|██████████| 258/258 [00:00<00:00, 14202.31it/s]\n",
      "100%|██████████| 258/258 [00:00<00:00, 96112.48it/s]\n",
      "100%|██████████| 258/258 [00:00<00:00, 45448.57it/s]\n",
      "100%|██████████| 260/260 [00:00<00:00, 14331.40it/s]\n",
      "100%|██████████| 260/260 [00:00<00:00, 3823.65it/s]\n",
      "100%|██████████| 260/260 [00:00<00:00, 23629.88it/s]\n",
      "100%|██████████| 260/260 [00:00<00:00, 7798.89it/s]\n",
      "100%|██████████| 260/260 [00:00<00:00, 4638.55it/s]\n",
      "100%|██████████| 260/260 [00:00<00:00, 1569.75it/s]\n"
     ]
    }
   ],
   "source": [
    "trials = {}\n",
    "for model, model_responses in responses.items():\n",
    "    trials[model] = {}\n",
    "    for file, response in tqdm(model_responses.items()):\n",
    "        trials[model][file] = responses_to_counts(response, gpt4=model=='gpt4')\n",
    "trials['maj'] = {k: majority_trials(v) for k, v in list(responses.values())[0].items()}\n",
    "\n",
    "# consider only those tasks for which we have all models\n",
    "tasks = set(trials['maj'].keys())\n",
    "for model in trials.keys():\n",
    "    tasks = tasks.intersection(set(trials[model].keys()))\n",
    "\n",
    "for model in trials.keys():\n",
    "    trials[model] = {k: v for k, v in trials[model].items() if k in tasks}"
   ]
  },
  {
   "cell_type": "code",
   "execution_count": 6,
   "metadata": {},
   "outputs": [
    {
     "data": {
      "image/png": "[encoded data removed]",
      "text/plain": [
       "<Figure size 1000x220 with 2 Axes>"
      ]
     },
     "metadata": {},
     "output_type": "display_data"
    }
   ],
   "source": [
    "get_compute = lambda model: compute[model] * 1e21 * 6\n",
    "\n",
    "prefixes = {\n",
    "    'sc_': 'Supreme Court',\n",
    "    'songer_': 'Court of Appeals',\n",
    "}\n",
    "\n",
    "def error_bar_transform(bars):\n",
    "    min_ = [bar[0] for bar in bars]\n",
    "    max_ = [bar[1] for bar in bars]\n",
    "    return np.c_[min_, max_].T\n",
    "\n",
    "fig, axs = plt.subplots(1, 2, figsize=(10, 2.2), dpi=100, sharey=False, sharex=True)\n",
    "\n",
    "for (prefix, title), ax in zip(prefixes.items(), axs):     \n",
    "    gpt4_acc, _ = compute_case_acc(trials['gpt4'], prefix=prefix)\n",
    "    maj_acc, _ = compute_case_acc(trials['maj'], prefix=prefix)\n",
    "    ax.axhline(y=maj_acc, color=palette[1], linestyle='-.', linewidth=2, label='Constant')\n",
    "    ax.axhline(y=gpt4_acc, color=palette[3], linestyle='--', linewidth=2, label='GPT4')\n",
    "   \n",
    "    y_axis = [compute_case_acc(trials[model], prefix=prefix) for model in compute.keys()]\n",
    "    y_axis = [y[0] for y in y_axis]\n",
    "    x_axis = [get_compute(model) for model in compute.keys()]\n",
    "    ax.errorbar(x_axis, y_axis, fmt='o-', color=palette[0], linewidth=2, label='Model')\n",
    "\n",
    "    # stars - lawma models\n",
    "    compute_models = ['llama-3-8b', 'llama-3-70b']\n",
    "    star_models = ['lawma-8b', 'lawma-70b']\n",
    "    x_axis = [get_compute(model) for model in compute_models]\n",
    "    y_axis = [compute_case_acc(trials[model], prefix=prefix)[0] for model in star_models]\n",
    "    ax.plot(x_axis, y_axis, '*', color='k', linewidth=2, label='Lawma', markersize=10, alpha=0.7, zorder=10)\n",
    "    \n",
    "    ax.set_xscale('log')\n",
    "    ax.set_title(title, fontsize=12)\n",
    "    ax.grid(True,  alpha=0.6)\n",
    "\n",
    "    ax.legend(loc='lower right', ncol=2, fontsize=11, frameon=False, columnspacing=0.5)\n",
    "\n",
    "\n",
    "for i in range(0, len(prefixes)):\n",
    "    axs[i].set_xlabel('Pretraining compute (FLOPs)', fontsize=12)\n",
    "axs[0].set_ylabel('Mean case accuracy', fontsize=12)\n",
    "\n",
    "fig.subplots_adjust(wspace=0.2)\n",
    "plt.savefig('plots/ft_scaling.pdf', bbox_inches='tight')"
   ]
  },
  {
   "cell_type": "code",
   "execution_count": 7,
   "metadata": {},
   "outputs": [
    {
     "name": "stdout",
     "output_type": "stream",
     "text": [
      "Diff in perf: 0.027022537239049682\n",
      "Computes 7.2e+23 6.3e+24\n",
      "Diff in perf: 0.08390247799627515\n",
      "Computes 1.8e+21 6.3e+24\n"
     ]
    }
   ],
   "source": [
    "models = ['llama-3-8b', 'llama-3-70b']\n",
    "print('Diff in perf:', compute_case_acc(trials[models[1]], prefix='sc_')[0] - compute_case_acc(trials[models[0]], prefix='sc_')[0])\n",
    "print('Computes', get_compute(models[0]), get_compute(models[1]))\n",
    "\n",
    "models = ['pythia-1b', 'llama-3-70b']\n",
    "print('Diff in perf:', compute_case_acc(trials[models[1]], prefix='songer_')[0] - compute_case_acc(trials[models[0]], prefix='songer_')[0])\n",
    "print('Computes', get_compute(models[0]), get_compute(models[1]))"
   ]
  }
 ],
 "metadata": {
  "kernelspec": {
   "display_name": "Python 3 (ipykernel)",
   "language": "python",
   "name": "python3"
  },
  "language_info": {
   "codemirror_mode": {
    "name": "ipython",
    "version": 3
   },
   "file_extension": ".py",
   "mimetype": "text/x-python",
   "name": "python",
   "nbconvert_exporter": "python",
   "pygments_lexer": "ipython3",
   "version": "3.10.14"
  }
 },
 "nbformat": 4,
 "nbformat_minor": 2
}
